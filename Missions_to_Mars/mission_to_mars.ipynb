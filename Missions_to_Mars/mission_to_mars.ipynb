{
 "cells": [
  {
   "cell_type": "code",
   "execution_count": 1,
   "metadata": {},
   "outputs": [],
   "source": [
    "# Use this to complete all of my scraping/analysis tasks. \n",
    "\n",
    "from bs4 import BeautifulSoup as bs\n",
    "import os\n",
    "import requests\n",
    "import pymongo\n",
    "from splinter import Browser\n",
    "import selenium # this does what? Selenium 3.14 is more recent than 3.5. \n",
    "import pandas as pd"
   ]
  },
  {
   "cell_type": "code",
   "execution_count": 2,
   "metadata": {
    "scrolled": true
   },
   "outputs": [
    {
     "name": "stdout",
     "output_type": "stream",
     "text": [
      "/usr/local/bin/chromedriver\r\n"
     ]
    }
   ],
   "source": [
    "!which chromedriver"
   ]
  },
  {
   "cell_type": "code",
   "execution_count": 3,
   "metadata": {},
   "outputs": [],
   "source": [
    "executable_path = {'executable_path': '/usr/local/bin/chromedriver'}\n",
    "browser = Browser('chrome', **executable_path, headless=False)"
   ]
  },
  {
   "cell_type": "code",
   "execution_count": 10,
   "metadata": {
    "scrolled": true
   },
   "outputs": [
    {
     "name": "stdout",
     "output_type": "stream",
     "text": [
      "NASA Engineers Checking InSight's Weather Sensors\n",
      "An electronics issue is suspected to be preventing the sensors from sharing their data about Mars weather with the spacecraft.\n"
     ]
    }
   ],
   "source": [
    "# Need to scrape: https://mars.nasa.gov/news/   \n",
    "# and collect the latest News Title and Paragraph Text. Assign the text to\n",
    "# variables that I can reference later.\n",
    "\n",
    "# e.g.: news_title = \"NASA's Next Mars Mission to Investigate Interior\"\n",
    "    #   news_p = \"Preparation of NASA's next spacecraft to Mars,\n",
    "    #   InSight, has ramped up this summer, on course for launch next May \n",
    "    #   from Vandenberg Air Force Base in central California -- the first \n",
    "    #   interplanetary launch in history from America's West Coast.\"\n",
    "    \n",
    "url = 'https://mars.nasa.gov/news/'\n",
    "browser.visit(url)\n",
    "\n",
    "html = browser.html\n",
    "soup = bs(html, \"html.parser\")\n",
    "\n",
    "\n",
    "news_title = soup.find_all(\"div\", class_ = 'content_title')[1].text\n",
    "print(news_title)\n",
    "\n",
    "news_paragraph = soup.find_all(\"div\", class_='article_teaser_body')[0].text\n",
    "print(news_paragraph)"
   ]
  },
  {
   "cell_type": "code",
   "execution_count": 11,
   "metadata": {},
   "outputs": [
    {
     "name": "stderr",
     "output_type": "stream",
     "text": [
      "/Users/haydenrubin/opt/anaconda3/envs/PythonData/lib/python3.6/site-packages/splinter/driver/webdriver/__init__.py:493: FutureWarning: browser.find_link_by_partial_text is deprecated. Use browser.links.find_by_partial_text instead.\n",
      "  FutureWarning,\n"
     ]
    },
    {
     "name": "stdout",
     "output_type": "stream",
     "text": [
      "https://www.jpl.nasa.gov//spaceimages/images/largesize/PIA20057_hires.jpg\n"
     ]
    }
   ],
   "source": [
    "# Need to scrape: https://www.jpl.nasa.gov/spaceimages/?search=&category=Mars\n",
    "\n",
    "# Use Splinter to navigate the site and find the image url for the current \n",
    "# Featured Mars Image and assign the url string to a variable called \n",
    "# 'featured_image_url'. \n",
    "# e.g.: featured_image_url = 'https://www.jpl.nasa.gov/spaceimages/images/largesize/PIA16225_hires.jpg'\n",
    "\n",
    "url2 = 'https://www.jpl.nasa.gov/spaceimages/?search=&category=Mars'\n",
    "browser.visit(url2)\n",
    "\n",
    "# Make sure to find the image url to the full (large) size '.jpg' image.\n",
    "browser.click_link_by_partial_text('FULL IMAGE')\n",
    "browser.click_link_by_partial_text('more info')\n",
    "\n",
    "html = browser.html\n",
    "soup = bs(html, \"html.parser\")\n",
    "\n",
    "# Make sure to save a complete url string for this image. \n",
    "\n",
    "soup_image = soup.find(\"img\", class_ ='main_image')\n",
    "\n",
    "featured_image_url = f\"https://www.jpl.nasa.gov/{soup_image.get('src')}\"\n",
    "\n",
    "print(featured_image_url)"
   ]
  },
  {
   "cell_type": "code",
   "execution_count": 26,
   "metadata": {},
   "outputs": [],
   "source": [
    "# Need to scrape the latest Mars weather tweet from: \n",
    "# https://twitter.com/marswxreport?lang=en . Save the tweet text for the\n",
    "# weather report as a variable called 'mars_weather',\n",
    "# e.g.: mars_weather = 'Sol 1801 (Aug 30, 2017), Sunny, high -21C/-5F,\n",
    "# low -80C/-112F, pressure at 8.82 hPa, daylight 06:09-17:55'\n",
    "\n",
    "url3 = 'https://twitter.com/marswxreport?lang=en'\n",
    "\n",
    "browser.visit(url3)\n",
    "\n",
    "html = browser.html\n",
    "soup = bs(html, \"html.parser\")\n",
    "\n",
    "individ_img_url = soup.find(\"section\", attrs={\"aria-labelledby\": \"accessible-list-0\"})\n",
    "\n",
    "individ_img_url\n",
    "\n",
    "#mars_weather = tweet.text\n",
    "\n",
    "#print(mars_weather)\n",
    "\n",
    "# print(tweet)"
   ]
  },
  {
   "cell_type": "code",
   "execution_count": 17,
   "metadata": {},
   "outputs": [],
   "source": [
    "# Use Pandas to scrape the table containing facts about the planet\n",
    "# including Diameter, Mass, etc. from https://space-facts.com/mars/\n",
    "\n",
    "url4 = 'https://space-facts.com/mars/'\n",
    "\n",
    "tables = pd.read_html(url4)\n",
    "tables\n",
    "\n",
    "# type(tables) = list. \n",
    "\n",
    "df = tables[0]\n",
    "df.columns = ['Column 1', 'Column 2']\n",
    "\n",
    "df.head()\n",
    "\n",
    "# Use Pandas to convert the data to a HTML table string. \n",
    "\n",
    "html_table = df.to_html()\n",
    "html_table.replace('\\n', '')\n",
    "df.to_html('Mars Facts Table.html')"
   ]
  },
  {
   "cell_type": "code",
   "execution_count": 4,
   "metadata": {},
   "outputs": [],
   "source": [
    "url5 = 'https://astrogeology.usgs.gov/search/results?q=hemisphere+enhanced&k1=target&v1=Mars'\n",
    "\n",
    "browser.visit(url5)\n"
   ]
  },
  {
   "cell_type": "code",
   "execution_count": 22,
   "metadata": {
    "scrolled": true
   },
   "outputs": [
    {
     "data": {
      "text/plain": [
       "[{'title': 'Cerberus Hemisphere Enhanced',\n",
       "  'img_url': 'https://astropedia.astrogeology.usgs.gov/download/Mars/Viking/cerberus_enhanced.tif/full.jpg'},\n",
       " {'title': 'Schiaparelli Hemisphere Enhanced',\n",
       "  'img_url': 'https://astropedia.astrogeology.usgs.gov/download/Mars/Viking/schiaparelli_enhanced.tif/full.jpg'},\n",
       " {'title': 'Syrtis Major Hemisphere Enhanced',\n",
       "  'img_url': 'https://astropedia.astrogeology.usgs.gov/download/Mars/Viking/syrtis_major_enhanced.tif/full.jpg'},\n",
       " {'title': 'Valles Marineris Hemisphere Enhanced',\n",
       "  'img_url': 'https://astropedia.astrogeology.usgs.gov/download/Mars/Viking/valles_marineris_enhanced.tif/full.jpg'}]"
      ]
     },
     "execution_count": 22,
     "metadata": {},
     "output_type": "execute_result"
    }
   ],
   "source": [
    "# Need to scrape high resolutions images for each of Mar's hemispheres\n",
    "# from https://astrogeology.usgs.gov/search/results?q=hemisphere+enhanced&k1=target&v1=Mars  .\n",
    "\n",
    "html = browser.html\n",
    "soup = bs(html, \"html.parser\")\n",
    "\n",
    "# Need to click each of links to the hemispheres in order to find the\n",
    "# image url to the full resolution image.\n",
    "\n",
    "div_items = soup.find_all(\"div\", class_ = 'item')\n",
    "div_items\n",
    "\n",
    "hemisphere_img_urls =  []\n",
    "\n",
    "for item in div_items:\n",
    "    title = item.find('h3').text # find, not find_all because it is a for loop.\n",
    "    browser.click_link_by_partial_text(title)\n",
    "    sample = browser.find_link_by_partial_text(\"Sample\")\n",
    "    html = browser.html\n",
    "    soup = bs(html, \"html.parser\")\n",
    "\n",
    "    hemi_url = sample[0][\"href\"]\n",
    "\n",
    "    browser.back()\n",
    "    \n",
    "    valles_dict = {\"title\": title, \"img_url\": hemi_url}\n",
    "    \n",
    "    hemisphere_img_urls.append(valles_dict)\n",
    "\n",
    "# Save both the image url string for the full resolution hemisphere\n",
    "# image, and the Hemisphere title containing the hemisphere name. Use a \n",
    "# Python dictionary to store the data using the keys 'img_url' and 'title'.\n",
    "\n",
    "# Append the dictionary with the image url string and the hemisphere\n",
    "# title to a list. This list will contain one dictionary for each hemisphere\n",
    "\n",
    "# e.g.:\n",
    "# hemisphere_image_urls = [ {\"title\": \"Valles Marineris Hemi\",\n",
    "# \"img_url\": \"...\"}, {\"title\": \"Cerberus Hemisphere\", \"img_url\": \"...\"},\n",
    "# {\"title\": \"Schiaparelli Hemisphere\", \"img_url\": \"...\"}, {\"title\":\n",
    "# \"Syrtis Major Hemisphere\", \"img_url\": \"...\"}]\n",
    "hemisphere_img_urls\n"
   ]
  }
 ],
 "metadata": {
  "kernelspec": {
   "display_name": "Python 3",
   "language": "python",
   "name": "python3"
  },
  "language_info": {
   "codemirror_mode": {
    "name": "ipython",
    "version": 3
   },
   "file_extension": ".py",
   "mimetype": "text/x-python",
   "name": "python",
   "nbconvert_exporter": "python",
   "pygments_lexer": "ipython3",
   "version": "3.6.10"
  }
 },
 "nbformat": 4,
 "nbformat_minor": 4
}
